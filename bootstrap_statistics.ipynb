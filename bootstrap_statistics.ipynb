{
 "cells": [
  {
   "cell_type": "code",
   "execution_count": 11,
   "id": "initial_id",
   "metadata": {
    "collapsed": true,
    "ExecuteTime": {
     "end_time": "2024-04-02T21:30:59.072179Z",
     "start_time": "2024-04-02T21:30:59.068508Z"
    }
   },
   "outputs": [],
   "source": [
    "import json\n",
    "import numpy as np\n",
    "\n",
    "def bootstrap_mean_std(data, num_samples=1000, sample_size=None):\n",
    "    if sample_size is None:\n",
    "        sample_size = len(data)\n",
    "    means = []\n",
    "    stds = []\n",
    "    for _ in range(num_samples):\n",
    "        bootstrap_sample = np.random.choice(data, size=sample_size, replace=True)\n",
    "        sample_mean = np.mean(bootstrap_sample)\n",
    "        sample_std = np.std(bootstrap_sample)\n",
    "        means.append(sample_mean)\n",
    "        stds.append(sample_std)\n",
    "    return np.mean(means), np.mean(stds)"
   ]
  },
  {
   "cell_type": "code",
   "outputs": [],
   "source": [
    "directory = 'experiment_results/MIS_ablation/beam/MLP_10/'\n",
    "\n",
    "with open(directory + 'TEST_result_MLP_MIS_f1scores.json', 'r') as f:\n",
    "    results = json.load(f)\n",
    "    f1_30_sparse = results[0]\n",
    "    gap_30_sparse = results[1]\n",
    "    \n",
    "with open(directory + 'TEST_result_MLP_MIS_30_0.6_f1scores.json', 'r') as f:\n",
    "    results = json.load(f)\n",
    "    f1_30_dense = results[0]\n",
    "    gap_30_dense = results[1]\n",
    "    \n",
    "with open(directory + 'TEST_result_MLP_MIS_90_0.2_f1scores.json', 'r') as f:\n",
    "    results = json.load(f)\n",
    "    f1_90_sparse = results[0]\n",
    "    gap_90_sparse = results[1]\n",
    "    \n",
    "with open(directory + 'TEST_result_MLP_MIS_90_0.6_f1scores.json', 'r') as f:\n",
    "    results = json.load(f)\n",
    "    f1_90_dense = results[0]\n",
    "    gap_90_dense = results[1]\n",
    "    \n",
    "with open(directory + 'TEST_result_MLP_MIS_180_0.5_f1scores.json', 'r') as f:\n",
    "    results = json.load(f)\n",
    "    f1_180_any = results[0]\n",
    "    gap_180_any = results[1]"
   ],
   "metadata": {
    "collapsed": false,
    "ExecuteTime": {
     "end_time": "2024-04-03T05:22:50.892844Z",
     "start_time": "2024-04-03T05:22:50.885819Z"
    }
   },
   "id": "ab34249845545624",
   "execution_count": 62
  },
  {
   "cell_type": "code",
   "outputs": [
    {
     "name": "stdout",
     "output_type": "stream",
     "text": [
      "experiment_results/MIS_ablation/beam/MLP_10/\n",
      "---MIS 30 sparse---\n",
      "F1 Mean: 0.6869210000832944\n",
      "F1 Standard Deviation: 0.1582023366857891\n",
      "Gap Mean: 0.37049997713623234\n",
      "Gap Standard Deviation: 0.18038027114234034\n",
      "---MIS 30 dense---\n",
      "F1 Mean: 0.02967052936507936\n",
      "F1 Standard Deviation: 0.09580000060535077\n",
      "Gap Mean: 0.17984406666666666\n",
      "Gap Standard Deviation: 0.17184037957158796\n",
      "---MIS 90 sparse---\n",
      "F1 Mean: 0.34021362399208704\n",
      "F1 Standard Deviation: 0.06576467685134259\n",
      "Gap Mean: 0.4082643830501596\n",
      "Gap Standard Deviation: 0.16729008953720756\n",
      "---MIS 90 dense---\n",
      "F1 Mean: 0.12980989935602502\n",
      "F1 Standard Deviation: 0.016656348231864918\n",
      "Gap Mean: 0.33495369875883896\n",
      "Gap Standard Deviation: 0.17752211624339748\n",
      "---MIS 180 any---\n",
      "F1 Mean: 0.1256108846209313\n",
      "F1 Standard Deviation: 0.038335811130394505\n",
      "Gap Mean: 0.39094406057798053\n",
      "Gap Standard Deviation: 0.13476953145517867\n"
     ]
    }
   ],
   "source": [
    "print(directory)\n",
    "print('---MIS 30 sparse---')\n",
    "f1_mean, f1_std = bootstrap_mean_std(f1_30_sparse)\n",
    "print(\"F1 Mean:\", f1_mean)\n",
    "print(\"F1 Standard Deviation:\", f1_std)\n",
    "gap_mean, gap_std = bootstrap_mean_std(gap_30_sparse)\n",
    "print(\"Gap Mean:\", gap_mean)\n",
    "print(\"Gap Standard Deviation:\", gap_std)\n",
    "\n",
    "print('---MIS 30 dense---')\n",
    "f1_mean, f1_std = bootstrap_mean_std(f1_30_dense)\n",
    "print(\"F1 Mean:\", f1_mean)\n",
    "print(\"F1 Standard Deviation:\", f1_std)\n",
    "gap_mean, gap_std = bootstrap_mean_std(gap_30_dense)\n",
    "print(\"Gap Mean:\", gap_mean)\n",
    "print(\"Gap Standard Deviation:\", gap_std)\n",
    "\n",
    "print('---MIS 90 sparse---')\n",
    "f1_mean, f1_std = bootstrap_mean_std(f1_90_sparse)\n",
    "print(\"F1 Mean:\", f1_mean)\n",
    "print(\"F1 Standard Deviation:\", f1_std)\n",
    "gap_mean, gap_std = bootstrap_mean_std(gap_90_sparse)\n",
    "print(\"Gap Mean:\", gap_mean)\n",
    "print(\"Gap Standard Deviation:\", gap_std)\n",
    "\n",
    "print('---MIS 90 dense---')\n",
    "f1_mean, f1_std = bootstrap_mean_std(f1_90_dense)\n",
    "print(\"F1 Mean:\", f1_mean)\n",
    "print(\"F1 Standard Deviation:\", f1_std)\n",
    "gap_mean, gap_std = bootstrap_mean_std(gap_90_dense)\n",
    "print(\"Gap Mean:\", gap_mean)\n",
    "print(\"Gap Standard Deviation:\", gap_std)\n",
    "\n",
    "print('---MIS 180 any---')\n",
    "f1_mean, f1_std = bootstrap_mean_std(f1_180_any)\n",
    "print(\"F1 Mean:\", f1_mean)\n",
    "print(\"F1 Standard Deviation:\", f1_std)\n",
    "gap_mean, gap_std = bootstrap_mean_std(gap_180_any)\n",
    "print(\"Gap Mean:\", gap_mean)\n",
    "print(\"Gap Standard Deviation:\", gap_std)"
   ],
   "metadata": {
    "collapsed": false,
    "ExecuteTime": {
     "end_time": "2024-04-03T05:22:51.674805Z",
     "start_time": "2024-04-03T05:22:51.199141Z"
    }
   },
   "id": "ada3ec8ca8741509",
   "execution_count": 63
  },
  {
   "cell_type": "code",
   "outputs": [],
   "source": [],
   "metadata": {
    "collapsed": false
   },
   "id": "e647a1e2ebb57022"
  }
 ],
 "metadata": {
  "kernelspec": {
   "display_name": "Python 3",
   "language": "python",
   "name": "python3"
  },
  "language_info": {
   "codemirror_mode": {
    "name": "ipython",
    "version": 2
   },
   "file_extension": ".py",
   "mimetype": "text/x-python",
   "name": "python",
   "nbconvert_exporter": "python",
   "pygments_lexer": "ipython2",
   "version": "2.7.6"
  }
 },
 "nbformat": 4,
 "nbformat_minor": 5
}
