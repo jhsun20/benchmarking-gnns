{
 "cells": [
  {
   "cell_type": "code",
   "execution_count": 1,
   "id": "initial_id",
   "metadata": {
    "collapsed": true,
    "ExecuteTime": {
     "end_time": "2024-04-13T01:45:03.309700Z",
     "start_time": "2024-04-13T01:45:03.305970Z"
    }
   },
   "outputs": [],
   "source": [
    "import json\n",
    "import numpy as np\n",
    "\n",
    "def bootstrap_mean_std(data, num_samples=1000, sample_size=None):\n",
    "    if sample_size is None:\n",
    "        sample_size = len(data)\n",
    "    means = []\n",
    "    stds = []\n",
    "    for _ in range(num_samples):\n",
    "        bootstrap_sample = np.random.choice(data, size=sample_size, replace=True)\n",
    "        sample_mean = np.mean(bootstrap_sample)\n",
    "        sample_std = np.std(bootstrap_sample)\n",
    "        means.append(sample_mean)\n",
    "        stds.append(sample_std)\n",
    "    return np.mean(means), np.mean(stds)"
   ]
  },
  {
   "cell_type": "code",
   "outputs": [],
   "source": [
    "directory = 'experiment_results/MC_ablation/beam/GatedGCN_5/'\n",
    "\n",
    "with open(directory + 'TEST_result_GatedGCN_MC_f1scores.json', 'r') as f:\n",
    "    results = json.load(f)\n",
    "    f1_30_sparse = results[0]\n",
    "    gap_30_sparse = results[1]\n",
    "    \n",
    "with open(directory + 'TEST_result_GatedGCN_MC_30_0.6_f1scores.json', 'r') as f:\n",
    "    results = json.load(f)\n",
    "    f1_30_dense = results[0]\n",
    "    gap_30_dense = results[1]\n",
    "    \n",
    "with open(directory + 'TEST_result_GatedGCN_MC_90_0.2_f1scores.json', 'r') as f:\n",
    "    results = json.load(f)\n",
    "    f1_90_sparse = results[0]\n",
    "    gap_90_sparse = results[1]\n",
    "    \n",
    "with open(directory + 'TEST_result_GatedGCN_MC_90_0.6_f1scores.json', 'r') as f:\n",
    "    results = json.load(f)\n",
    "    f1_90_dense = results[0]\n",
    "    gap_90_dense = results[1]\n",
    "    \n",
    "with open(directory + 'TEST_result_GatedGCN_MC_180_0.5_f1scores.json', 'r') as f:\n",
    "    results = json.load(f)\n",
    "    f1_180_any = results[0]\n",
    "    gap_180_any = results[1]"
   ],
   "metadata": {
    "collapsed": false,
    "ExecuteTime": {
     "end_time": "2024-04-13T04:16:03.790223Z",
     "start_time": "2024-04-13T04:16:03.783349Z"
    }
   },
   "id": "ab34249845545624",
   "execution_count": 33
  },
  {
   "cell_type": "code",
   "outputs": [
    {
     "name": "stdout",
     "output_type": "stream",
     "text": [
      "experiment_results/MC_ablation/beam/GatedGCN_5/\n",
      "---MC 30 sparse---\n",
      "F1 Mean: 0.7844172026291896\n",
      "F1 Standard Deviation: 0.1578181929109552\n",
      "Gap Mean: 0.22079273095238097\n",
      "Gap Standard Deviation: 0.21931398760286902\n",
      "---MC 30 dense---\n",
      "F1 Mean: 0.5192469718099975\n",
      "F1 Standard Deviation: 0.08885754496163807\n",
      "Gap Mean: 0.5172650873015873\n",
      "Gap Standard Deviation: 0.2577082945413783\n",
      "---MC 90 sparse---\n",
      "F1 Mean: 0.1983400245692594\n",
      "F1 Standard Deviation: 0.04712951113861591\n",
      "Gap Mean: 0.3822187145990736\n",
      "Gap Standard Deviation: 0.22071084962172727\n",
      "---MC 90 dense---\n",
      "F1 Mean: 0.3263997913536341\n",
      "F1 Standard Deviation: 0.06528462826856288\n",
      "Gap Mean: 0.6863510377090505\n",
      "Gap Standard Deviation: 0.4045709209767222\n",
      "---MC 180 any---\n",
      "F1 Mean: 0.13517760019246697\n",
      "F1 Standard Deviation: 0.06599664008815782\n",
      "Gap Mean: 0.6405808221957521\n",
      "Gap Standard Deviation: 0.34689740973550426\n"
     ]
    }
   ],
   "source": [
    "print(directory)\n",
    "print('---MC 30 sparse---')\n",
    "f1_mean, f1_std = bootstrap_mean_std(f1_30_sparse)\n",
    "print(\"F1 Mean:\", f1_mean)\n",
    "print(\"F1 Standard Deviation:\", f1_std)\n",
    "gap_mean, gap_std = bootstrap_mean_std(gap_30_sparse)\n",
    "print(\"Gap Mean:\", gap_mean)\n",
    "print(\"Gap Standard Deviation:\", gap_std)\n",
    "\n",
    "print('---MC 30 dense---')\n",
    "f1_mean, f1_std = bootstrap_mean_std(f1_30_dense)\n",
    "print(\"F1 Mean:\", f1_mean)\n",
    "print(\"F1 Standard Deviation:\", f1_std)\n",
    "gap_mean, gap_std = bootstrap_mean_std(gap_30_dense)\n",
    "print(\"Gap Mean:\", gap_mean)\n",
    "print(\"Gap Standard Deviation:\", gap_std)\n",
    "\n",
    "print('---MC 90 sparse---')\n",
    "f1_mean, f1_std = bootstrap_mean_std(f1_90_sparse)\n",
    "print(\"F1 Mean:\", f1_mean)\n",
    "print(\"F1 Standard Deviation:\", f1_std)\n",
    "gap_mean, gap_std = bootstrap_mean_std(gap_90_sparse)\n",
    "print(\"Gap Mean:\", gap_mean)\n",
    "print(\"Gap Standard Deviation:\", gap_std)\n",
    "\n",
    "print('---MC 90 dense---')\n",
    "f1_mean, f1_std = bootstrap_mean_std(f1_90_dense)\n",
    "print(\"F1 Mean:\", f1_mean)\n",
    "print(\"F1 Standard Deviation:\", f1_std)\n",
    "gap_mean, gap_std = bootstrap_mean_std(gap_90_dense)\n",
    "print(\"Gap Mean:\", gap_mean)\n",
    "print(\"Gap Standard Deviation:\", gap_std)\n",
    "\n",
    "print('---MC 180 any---')\n",
    "f1_mean, f1_std = bootstrap_mean_std(f1_180_any)\n",
    "print(\"F1 Mean:\", f1_mean)\n",
    "print(\"F1 Standard Deviation:\", f1_std)\n",
    "gap_mean, gap_std = bootstrap_mean_std(gap_180_any)\n",
    "print(\"Gap Mean:\", gap_mean)\n",
    "print(\"Gap Standard Deviation:\", gap_std)"
   ],
   "metadata": {
    "collapsed": false,
    "ExecuteTime": {
     "end_time": "2024-04-13T04:16:05.271452Z",
     "start_time": "2024-04-13T04:16:04.819740Z"
    }
   },
   "id": "ada3ec8ca8741509",
   "execution_count": 34
  },
  {
   "cell_type": "code",
   "outputs": [],
   "source": [],
   "metadata": {
    "collapsed": false
   },
   "id": "e647a1e2ebb57022"
  }
 ],
 "metadata": {
  "kernelspec": {
   "display_name": "Python 3",
   "language": "python",
   "name": "python3"
  },
  "language_info": {
   "codemirror_mode": {
    "name": "ipython",
    "version": 2
   },
   "file_extension": ".py",
   "mimetype": "text/x-python",
   "name": "python",
   "nbconvert_exporter": "python",
   "pygments_lexer": "ipython2",
   "version": "2.7.6"
  }
 },
 "nbformat": 4,
 "nbformat_minor": 5
}
