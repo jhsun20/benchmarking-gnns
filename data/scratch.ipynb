{
 "cells": [
  {
   "cell_type": "code",
   "execution_count": 2,
   "id": "initial_id",
   "metadata": {
    "collapsed": true,
    "ExecuteTime": {
     "end_time": "2024-03-08T22:47:15.340278Z",
     "start_time": "2024-03-08T22:47:13.401095Z"
    }
   },
   "outputs": [],
   "source": [
    "import dgl\n",
    "import torch"
   ]
  },
  {
   "cell_type": "code",
   "outputs": [],
   "source": [
    "graph = dgl.rand_graph(10, 10)"
   ],
   "metadata": {
    "collapsed": false,
    "ExecuteTime": {
     "end_time": "2024-03-08T22:47:24.480196Z",
     "start_time": "2024-03-08T22:47:24.475537Z"
    }
   },
   "id": "a530dbdc743af700",
   "execution_count": 3
  },
  {
   "cell_type": "code",
   "outputs": [
    {
     "name": "stdout",
     "output_type": "stream",
     "text": [
      "tensor([1, 1, 0, 2, 0, 1, 0, 1, 0, 4])\n"
     ]
    }
   ],
   "source": [
    "feats = graph.in_degrees()\n",
    "print(feats)"
   ],
   "metadata": {
    "collapsed": false,
    "ExecuteTime": {
     "end_time": "2024-03-09T00:01:03.603476Z",
     "start_time": "2024-03-09T00:01:03.600326Z"
    }
   },
   "id": "943f460dbce847d1",
   "execution_count": 36
  },
  {
   "cell_type": "code",
   "outputs": [],
   "source": [
    "feats = feats.view(10,1)"
   ],
   "metadata": {
    "collapsed": false,
    "ExecuteTime": {
     "end_time": "2024-03-09T00:01:04.654901Z",
     "start_time": "2024-03-09T00:01:04.652343Z"
    }
   },
   "id": "28c647f464ed94f1",
   "execution_count": 37
  },
  {
   "cell_type": "code",
   "outputs": [
    {
     "name": "stdout",
     "output_type": "stream",
     "text": [
      "tensor([[1., 0.],\n",
      "        [1., 0.],\n",
      "        [0., 0.],\n",
      "        [2., 0.],\n",
      "        [0., 0.],\n",
      "        [1., 0.],\n",
      "        [0., 0.],\n",
      "        [1., 0.],\n",
      "        [0., 0.],\n",
      "        [4., 0.]])\n"
     ]
    }
   ],
   "source": [
    "feats = torch.cat((feats, torch.zeros(10, 1)), dim=1)\n",
    "print(feats)"
   ],
   "metadata": {
    "collapsed": false,
    "ExecuteTime": {
     "end_time": "2024-03-09T00:01:05.228036Z",
     "start_time": "2024-03-09T00:01:05.223896Z"
    }
   },
   "id": "e1efa33386b4971",
   "execution_count": 38
  },
  {
   "cell_type": "code",
   "outputs": [],
   "source": [
    "feats = feats.to(torch.int64)"
   ],
   "metadata": {
    "collapsed": false,
    "ExecuteTime": {
     "end_time": "2024-03-08T23:54:43.518928Z",
     "start_time": "2024-03-08T23:54:43.515697Z"
    }
   },
   "id": "6718809e208b19a3",
   "execution_count": 29
  },
  {
   "cell_type": "code",
   "outputs": [
    {
     "name": "stdout",
     "output_type": "stream",
     "text": [
      "tensor([0., 0., 0., 0., 0., 0., 0., 0., 0., 0.])\n"
     ]
    }
   ],
   "source": [
    "feats2 = torch.zeros(10)\n",
    "print(feats2)"
   ],
   "metadata": {
    "collapsed": false,
    "ExecuteTime": {
     "end_time": "2024-03-08T22:53:07.006364Z",
     "start_time": "2024-03-08T22:53:07.003199Z"
    }
   },
   "id": "b8578db05e120b15",
   "execution_count": 19
  },
  {
   "cell_type": "code",
   "outputs": [],
   "source": [
    "graph.ndata['x'] = feats\n",
    "graph.ndata['y'] = feats2"
   ],
   "metadata": {
    "collapsed": false,
    "ExecuteTime": {
     "end_time": "2024-03-08T22:53:27.603030Z",
     "start_time": "2024-03-08T22:53:27.600638Z"
    }
   },
   "id": "e7c809c4ee7e4cb9",
   "execution_count": 20
  },
  {
   "cell_type": "code",
   "outputs": [
    {
     "data": {
      "text/plain": "{'x': tensor([1, 1, 0, 2, 0, 1, 0, 1, 0, 4]), 'y': tensor([0., 0., 0., 0., 0., 0., 0., 0., 0., 0.])}"
     },
     "execution_count": 21,
     "metadata": {},
     "output_type": "execute_result"
    }
   ],
   "source": [
    "graph.ndata"
   ],
   "metadata": {
    "collapsed": false,
    "ExecuteTime": {
     "end_time": "2024-03-08T22:53:28.980232Z",
     "start_time": "2024-03-08T22:53:28.976937Z"
    }
   },
   "id": "e2b632435a27b1c",
   "execution_count": 21
  },
  {
   "cell_type": "code",
   "outputs": [
    {
     "ename": "AttributeError",
     "evalue": "'Tensor' object has no attribute 'ndata'",
     "output_type": "error",
     "traceback": [
      "\u001B[1;31m---------------------------------------------------------------------------\u001B[0m",
      "\u001B[1;31mAttributeError\u001B[0m                            Traceback (most recent call last)",
      "Cell \u001B[1;32mIn[13], line 2\u001B[0m\n\u001B[0;32m      1\u001B[0m \u001B[38;5;28;01mfor\u001B[39;00m nodes \u001B[38;5;129;01min\u001B[39;00m graph\u001B[38;5;241m.\u001B[39mnodes():\n\u001B[1;32m----> 2\u001B[0m     \u001B[38;5;28mprint\u001B[39m(nodes\u001B[38;5;241m.\u001B[39mndata(\u001B[38;5;124m'\u001B[39m\u001B[38;5;124mx\u001B[39m\u001B[38;5;124m'\u001B[39m))\n",
      "\u001B[1;31mAttributeError\u001B[0m: 'Tensor' object has no attribute 'ndata'"
     ]
    }
   ],
   "source": [
    "for nodes in graph.nodes():\n",
    "    print(nodes.ndata('x'))"
   ],
   "metadata": {
    "collapsed": false,
    "ExecuteTime": {
     "end_time": "2024-03-08T22:51:13.039434Z",
     "start_time": "2024-03-08T22:51:13.027782Z"
    }
   },
   "id": "8e51ea6b3d97abe0",
   "execution_count": 13
  },
  {
   "cell_type": "code",
   "outputs": [
    {
     "data": {
      "text/plain": "tensor([1, 1, 0, 2, 0, 1, 0, 1, 0, 4])"
     },
     "execution_count": 14,
     "metadata": {},
     "output_type": "execute_result"
    }
   ],
   "source": [
    "graph.ndata['x']"
   ],
   "metadata": {
    "collapsed": false,
    "ExecuteTime": {
     "end_time": "2024-03-08T22:51:28.692930Z",
     "start_time": "2024-03-08T22:51:28.689976Z"
    }
   },
   "id": "199b467124a9da77",
   "execution_count": 14
  },
  {
   "cell_type": "code",
   "outputs": [],
   "source": [],
   "metadata": {
    "collapsed": false
   },
   "id": "ebaf44629c4fc95f"
  }
 ],
 "metadata": {
  "kernelspec": {
   "display_name": "Python 3",
   "language": "python",
   "name": "python3"
  },
  "language_info": {
   "codemirror_mode": {
    "name": "ipython",
    "version": 2
   },
   "file_extension": ".py",
   "mimetype": "text/x-python",
   "name": "python",
   "nbconvert_exporter": "python",
   "pygments_lexer": "ipython2",
   "version": "2.7.6"
  }
 },
 "nbformat": 4,
 "nbformat_minor": 5
}
