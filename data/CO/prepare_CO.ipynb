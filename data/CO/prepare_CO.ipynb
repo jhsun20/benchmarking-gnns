{
 "cells": [
  {
   "cell_type": "code",
   "execution_count": 1,
   "id": "initial_id",
   "metadata": {
    "collapsed": true,
    "ExecuteTime": {
     "end_time": "2024-03-04T03:04:19.319925Z",
     "start_time": "2024-03-04T03:04:17.618484Z"
    }
   },
   "outputs": [],
   "source": [
    "import numpy as np\n",
    "import torch\n",
    "import pickle\n",
    "import time\n",
    "import os\n",
    "import networkx as nx\n",
    "%matplotlib inline\n",
    "import dgl\n",
    "import matplotlib.pyplot as plt\n",
    "from data.CO import CODataset, load_CODataSetDGL\n",
    "from data.data import LoadData\n",
    "from torch.utils.data import DataLoader\n",
    "from data.CO import CODataset"
   ]
  },
  {
   "cell_type": "code",
   "outputs": [
    {
     "name": "stdout",
     "output_type": "stream",
     "text": [
      "C:\\Users\\jhsun\\PycharmProjects\\benchmarking-gnns-new\n"
     ]
    }
   ],
   "source": [
    "os.chdir('C:/Users/jhsun/PycharmProjects/benchmarking-gnns-new/') # go to root folder of the project\n",
    "print(os.getcwd())"
   ],
   "metadata": {
    "collapsed": false,
    "ExecuteTime": {
     "end_time": "2024-03-04T03:04:19.324472Z",
     "start_time": "2024-03-04T03:04:19.320930Z"
    }
   },
   "id": "b6d5e1c54525d223",
   "execution_count": 2
  },
  {
   "cell_type": "code",
   "outputs": [
    {
     "name": "stdout",
     "output_type": "stream",
     "text": [
      "preparing graphs for the TRAIN set...\n"
     ]
    }
   ],
   "source": [
    "train_dataset = load_CODataSetDGL('data/CO/train/', \"MC\", \"train\")"
   ],
   "metadata": {
    "collapsed": false,
    "ExecuteTime": {
     "end_time": "2024-03-04T03:04:22.017640Z",
     "start_time": "2024-03-04T03:04:20.269923Z"
    }
   },
   "id": "d92dd66e3b1729df",
   "execution_count": 3
  },
  {
   "cell_type": "code",
   "outputs": [
    {
     "name": "stdout",
     "output_type": "stream",
     "text": [
      "15004\n",
      "15004\n",
      "15004\n"
     ]
    }
   ],
   "source": [
    "print(len(train_dataset))\n",
    "print(len(train_dataset.graph_lists))\n",
    "print(len(train_dataset.node_labels))"
   ],
   "metadata": {
    "collapsed": false,
    "ExecuteTime": {
     "end_time": "2024-03-04T03:04:22.020757Z",
     "start_time": "2024-03-04T03:04:22.017640Z"
    }
   },
   "id": "1d0e9481406a17f9",
   "execution_count": 4
  },
  {
   "cell_type": "code",
   "outputs": [
    {
     "name": "stdout",
     "output_type": "stream",
     "text": [
      "preparing graphs for the VAL set...\n"
     ]
    }
   ],
   "source": [
    "val_dataset = load_CODataSetDGL('data/CO/val/', \"MC\", \"val\")"
   ],
   "metadata": {
    "collapsed": false,
    "ExecuteTime": {
     "end_time": "2024-03-04T03:04:29.505854Z",
     "start_time": "2024-03-04T03:04:29.069112Z"
    }
   },
   "id": "e050ded6b6abf03c",
   "execution_count": 7
  },
  {
   "cell_type": "code",
   "outputs": [
    {
     "name": "stdout",
     "output_type": "stream",
     "text": [
      "2870\n",
      "2870\n",
      "2870\n"
     ]
    }
   ],
   "source": [
    "print(len(val_dataset))\n",
    "print(len(val_dataset.graph_lists))\n",
    "print(len(val_dataset.node_labels))"
   ],
   "metadata": {
    "collapsed": false,
    "ExecuteTime": {
     "end_time": "2024-03-04T03:04:31.831444Z",
     "start_time": "2024-03-04T03:04:31.828131Z"
    }
   },
   "id": "6b03a76465521f67",
   "execution_count": 8
  },
  {
   "cell_type": "code",
   "outputs": [
    {
     "name": "stdout",
     "output_type": "stream",
     "text": [
      "preparing graphs for the TEST set...\n"
     ]
    }
   ],
   "source": [
    "test_dataset = load_CODataSetDGL('data/CO/test', \"MC\", \"test\")"
   ],
   "metadata": {
    "collapsed": false,
    "ExecuteTime": {
     "end_time": "2024-03-04T02:20:41.579796Z",
     "start_time": "2024-03-04T02:20:41.257785Z"
    }
   },
   "id": "54c44fd5cc4d0329",
   "execution_count": 9
  },
  {
   "cell_type": "code",
   "outputs": [
    {
     "name": "stdout",
     "output_type": "stream",
     "text": [
      "400\n",
      "400\n",
      "400\n"
     ]
    }
   ],
   "source": [
    "print(len(test_dataset))\n",
    "print(len(test_dataset.graph_lists))\n",
    "print(len(test_dataset.node_labels))"
   ],
   "metadata": {
    "collapsed": false,
    "ExecuteTime": {
     "end_time": "2024-03-04T02:20:42.248180Z",
     "start_time": "2024-03-04T02:20:42.245697Z"
    }
   },
   "id": "f1a271659e37220",
   "execution_count": 10
  },
  {
   "cell_type": "code",
   "outputs": [
    {
     "name": "stdout",
     "output_type": "stream",
     "text": [
      "[I] Loading data ...\n",
      "preparing graphs for the TRAIN set...\n",
      "[I] Finished loading 15004 graphs.\n",
      "[I] Data load time: 1.7457s\n",
      "[I] Loading data ...\n",
      "preparing graphs for the VAL set...\n",
      "[I] Finished loading 2870 graphs.\n",
      "[I] Data load time: 0.4876s\n"
     ]
    }
   ],
   "source": [
    "train_set = LoadData('data/CO/train', \"MC\", \"train\")\n",
    "val_set = LoadData('data/CO/val', \"MC\", \"val\")"
   ],
   "metadata": {
    "collapsed": false,
    "ExecuteTime": {
     "end_time": "2024-03-04T03:04:35.437626Z",
     "start_time": "2024-03-04T03:04:33.202061Z"
    }
   },
   "id": "73f8aa94581b3972",
   "execution_count": 9
  },
  {
   "cell_type": "code",
   "outputs": [],
   "source": [
    "embedding = torch.nn.Embedding(1, 64*8)"
   ],
   "metadata": {
    "collapsed": false,
    "ExecuteTime": {
     "end_time": "2024-03-04T05:58:44.223588Z",
     "start_time": "2024-03-04T05:58:44.220844Z"
    }
   },
   "id": "5af410c7814671e8",
   "execution_count": 37
  },
  {
   "cell_type": "code",
   "outputs": [],
   "source": [
    "input = torch.tensor([[0],[0],[0]])"
   ],
   "metadata": {
    "collapsed": false,
    "ExecuteTime": {
     "end_time": "2024-03-04T06:00:47.842575Z",
     "start_time": "2024-03-04T06:00:47.839559Z"
    }
   },
   "id": "f54ca0970ba39968",
   "execution_count": 44
  },
  {
   "cell_type": "code",
   "outputs": [],
   "source": [
    "output_tensor = embedding(input)"
   ],
   "metadata": {
    "collapsed": false,
    "ExecuteTime": {
     "end_time": "2024-03-04T06:00:48.319976Z",
     "start_time": "2024-03-04T06:00:48.317865Z"
    }
   },
   "id": "aa39692234030c3d",
   "execution_count": 45
  },
  {
   "cell_type": "code",
   "outputs": [
    {
     "name": "stdout",
     "output_type": "stream",
     "text": [
      "tensor([[-0.0194,  1.0987,  0.0728,  0.2073,  1.1377,  0.0406,  0.7197,  1.0520,\n",
      "         -0.2493,  0.3039, -0.3447,  1.2101, -0.0463,  0.1362,  0.6859, -0.2188,\n",
      "          0.0222, -1.1259,  0.5021, -0.2147,  1.3017, -1.0886,  0.8596, -1.4535,\n",
      "          0.7203, -2.2416, -0.0473, -1.0349, -0.8966,  1.4030,  0.3062,  1.5910,\n",
      "         -0.0302, -1.7353,  0.0691,  0.3726,  0.0167, -0.0099,  0.6020,  0.4567,\n",
      "         -0.1127, -1.2107, -0.8657,  0.3807,  1.3897, -0.8085,  1.1317, -0.4343,\n",
      "          0.6369,  0.9943,  0.0363,  1.1326, -1.5037,  0.1620, -0.2498,  1.0900,\n",
      "         -0.1362,  0.0700, -0.0982, -0.6412,  0.2383,  0.2490,  1.9157,  0.9608,\n",
      "         -0.6035,  0.7283, -0.1440,  0.3177,  0.1846,  0.1174,  0.7637,  0.7980,\n",
      "         -2.2637,  0.2827, -0.2175, -0.4257,  0.0520, -1.7332,  0.5048, -1.4109,\n",
      "         -1.0658,  0.1352,  0.3468, -0.7442, -0.6485, -0.1258, -2.2494,  0.9199,\n",
      "          0.6987,  1.0132,  0.9279,  1.2252, -1.2289, -1.5391, -0.5566,  0.3828,\n",
      "          0.2355, -0.7409,  0.0589, -0.9330, -1.9962,  0.4941, -0.6308,  0.7876,\n",
      "          0.3387,  0.8553,  0.3682, -1.5533,  0.1516, -1.7094,  1.2142,  0.4724,\n",
      "         -0.4842,  0.0576, -0.1129, -0.0614,  2.0166, -0.6503,  1.7321,  0.7681,\n",
      "         -0.3629, -0.5137,  0.8058,  0.6431, -1.0583, -1.2712, -0.1838,  1.5393,\n",
      "         -0.8045, -0.9143,  0.0967, -1.2533, -0.2236, -0.0589, -0.4059, -0.9496,\n",
      "         -0.2558,  0.1603,  1.6773,  1.2399, -1.1333,  0.1091,  1.2833,  0.9071,\n",
      "          1.2202,  0.7127,  0.9650,  1.0396, -0.5325,  0.8527,  1.4222, -1.8284,\n",
      "         -0.5741, -1.1205,  0.8984,  0.1872, -0.2460,  1.6309,  0.3757,  0.6149,\n",
      "          0.3633, -0.8246,  1.9372,  0.5805, -0.4124, -0.7524, -0.6968,  1.6108,\n",
      "          0.5549, -0.1918, -1.2849,  0.7042, -0.5935, -0.5535,  0.3119,  0.2391,\n",
      "          1.0684, -0.9103,  0.4263,  0.1121,  2.9968, -0.5143,  0.3720,  0.7947,\n",
      "          1.5138, -0.0481, -1.1755, -0.7777,  0.9989, -0.8028,  0.1723,  0.4046,\n",
      "          1.9819, -0.5470,  0.9972, -0.6290, -0.3317,  0.8972, -0.0098,  1.1090,\n",
      "          1.0545,  0.6961,  1.2484, -1.1792, -1.4778,  1.6367, -0.9847, -0.0740,\n",
      "         -0.7629, -0.4013,  0.2897, -0.0649,  0.3229,  0.5373,  0.2392, -0.1263,\n",
      "          0.1146,  0.9805,  1.4177,  1.1011, -0.2197, -1.3789,  1.3287,  1.8270,\n",
      "         -0.1564,  0.7105,  0.0743, -0.2176,  0.2538, -0.1244,  1.7436, -1.3730,\n",
      "         -2.3114, -1.3027, -0.2225, -1.0530, -1.3685,  0.0205, -0.6963,  1.2959,\n",
      "         -2.5951, -0.4146, -0.0127, -0.9666,  0.1492, -1.1225,  0.4359, -0.1750,\n",
      "          0.3018,  0.1966, -0.0715, -1.6475, -0.4337,  1.6602,  0.3740, -2.7145,\n",
      "          1.0097,  0.9333, -0.0246,  0.4294,  0.0847, -0.9196,  2.0977,  1.7786,\n",
      "         -0.2028,  0.8162, -0.6889, -0.4260,  1.0666, -0.4307, -1.7243,  0.7000,\n",
      "          0.2208,  0.0998,  0.5320,  1.2725, -0.7101,  1.1591, -1.3035,  0.9416,\n",
      "          0.3740, -0.4413, -1.3463, -0.3438,  0.7695, -0.8924,  0.1602, -0.7718,\n",
      "         -0.7293,  0.7026, -0.9582, -2.1493,  1.2827, -0.3583, -1.5651,  1.6183,\n",
      "         -0.4505,  0.4342,  1.4020, -2.4267,  1.2951,  0.3197,  1.3186, -0.5498,\n",
      "         -0.0573,  1.2498, -0.0669, -1.0967, -0.6478,  0.0555,  0.2000,  1.2029,\n",
      "         -0.8356,  0.6936, -1.7985, -0.8838,  1.0911, -0.6810, -0.5016,  0.6250,\n",
      "          1.8764,  0.8677,  2.2125, -0.7455,  1.8245,  0.1888,  0.2720, -1.3264,\n",
      "          1.5862, -0.6370,  0.1502, -1.1722, -1.4262,  0.1801,  0.0670,  0.2507,\n",
      "          1.9915,  0.3924, -0.6794,  0.4461, -0.2131, -0.2347, -0.3667, -0.7081,\n",
      "          1.0562, -0.0160,  0.8640,  0.7343,  0.8482, -0.3467,  0.4714,  0.6573,\n",
      "         -1.5525,  0.9001, -1.0565,  0.8113,  0.1246, -0.0453,  3.1015,  0.9764,\n",
      "         -1.5913,  0.5413, -0.8007,  1.4301, -1.5045,  0.4913, -2.0356,  0.6210,\n",
      "          1.1183, -2.0477, -1.4442, -0.8209,  2.3309, -0.7835, -0.3312,  1.9036,\n",
      "         -0.1926,  0.3112, -0.5076, -0.0896, -0.5667,  2.6648, -0.2761,  0.7639,\n",
      "         -1.4319,  1.2842, -1.2087, -0.0780, -1.3642, -2.1779, -1.7177,  0.4047,\n",
      "         -0.0969,  0.1723, -0.7441,  0.6346,  0.6526,  0.7902, -0.3544,  0.1580,\n",
      "          1.5119,  2.3863, -0.9589,  0.7653,  0.0649, -0.5914, -0.3495, -0.6645,\n",
      "         -0.7286,  0.8353, -0.2978, -2.4466, -1.3906, -0.5871, -0.7333, -0.1684,\n",
      "         -0.0128, -0.6868, -1.8134, -0.0099, -0.6030,  0.1777,  1.1058, -1.8901,\n",
      "         -0.0733, -0.5128,  1.6126, -0.4436,  1.2000, -0.3871, -0.1968, -0.3439,\n",
      "         -1.3579,  1.0931, -0.9338, -0.7002,  0.3642,  1.2094,  0.2621, -0.4881,\n",
      "          0.8865, -0.0675, -0.1480, -0.5211,  0.0335, -2.0960,  0.3614,  0.4699,\n",
      "          0.3508, -0.2125,  0.1092,  0.7303,  0.6145,  0.2438, -0.1733, -0.2461,\n",
      "         -0.7962,  0.0846, -1.3427, -0.3323,  0.2083, -0.8495, -0.0918, -0.0087,\n",
      "         -1.1984,  0.3537, -0.4131, -0.1407,  0.3363,  0.1928,  0.1476, -1.8564,\n",
      "          0.3514, -0.2161, -0.8328, -0.5885,  1.1380,  1.3769, -0.3889, -0.7053,\n",
      "         -2.1001, -0.1283,  1.3564,  0.6758,  0.3977,  0.4445, -0.6229, -0.3838,\n",
      "         -0.7543, -0.5053, -1.1554, -0.4375, -0.8219,  0.2545, -0.6396,  0.0888,\n",
      "         -0.3172,  0.7142,  0.1839,  1.3459, -0.6748,  0.6847, -1.1515,  0.0512,\n",
      "         -0.0487,  0.6079,  0.6092, -1.0782, -0.1946,  0.7838,  0.6859,  0.2501]],\n",
      "       grad_fn=<EmbeddingBackward0>)\n"
     ]
    }
   ],
   "source": [
    "print(output_tensor)"
   ],
   "metadata": {
    "collapsed": false,
    "ExecuteTime": {
     "end_time": "2024-03-04T05:59:14.304981Z",
     "start_time": "2024-03-04T05:59:14.300799Z"
    }
   },
   "id": "e1c611589cd01b19",
   "execution_count": 42
  },
  {
   "cell_type": "code",
   "outputs": [],
   "source": [],
   "metadata": {
    "collapsed": false
   },
   "id": "a5573305246cb58a"
  }
 ],
 "metadata": {
  "kernelspec": {
   "display_name": "Python 3",
   "language": "python",
   "name": "python3"
  },
  "language_info": {
   "codemirror_mode": {
    "name": "ipython",
    "version": 2
   },
   "file_extension": ".py",
   "mimetype": "text/x-python",
   "name": "python",
   "nbconvert_exporter": "python",
   "pygments_lexer": "ipython2",
   "version": "2.7.6"
  }
 },
 "nbformat": 4,
 "nbformat_minor": 5
}
