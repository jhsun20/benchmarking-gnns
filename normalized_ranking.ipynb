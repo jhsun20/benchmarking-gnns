{
 "cells": [
  {
   "cell_type": "code",
   "outputs": [],
   "source": [
    "import torch\n",
    "import numpy as np\n",
    "import networkx as nx\n",
    "import os"
   ],
   "metadata": {
    "collapsed": false,
    "ExecuteTime": {
     "end_time": "2024-04-08T03:26:05.702823Z",
     "start_time": "2024-04-08T03:26:02.590430Z"
    }
   },
   "id": "f57630a3bb8c6c36",
   "execution_count": 1
  },
  {
   "cell_type": "code",
   "outputs": [
    {
     "name": "stdout",
     "output_type": "stream",
     "text": [
      "Normalized list 1: [0.2266666666666664, 0.14522821576763487, 0.8762886597938144, 0.2907268170426065, 0.6528925619834711]\n",
      "average 0.4383605842508387\n",
      "Normalized list 2: [0.9555555555555555, 0.9972337482710927, 1.0, 1.0, 1.0]\n",
      "average 0.9905578607653297\n",
      "Normalized list 3: [1.0, 1.0, 0.4587628865979381, 0.0, 0.3223140495867769]\n",
      "average 0.5562153872369431\n",
      "Normalized list 4: [0.528888888888889, 0.0, 0.0, 0.0, 0.0]\n",
      "average 0.10577777777777779\n",
      "Normalized list 5: [0.40444444444444433, 0.4066390041493776, 0.31958762886597936, 0.0, 0.0]\n",
      "average 0.22613421549196025\n",
      "Normalized list 6: [0.8355555555555554, 0.6320885200553251, 0.030927835051546393, 0.24310776942355888, 0.06611570247933884]\n",
      "average 0.3615590765130649\n",
      "Normalized list 7: [0.9866666666666667, 0.5864453665283541, 0.5, 0.0, 0.0]\n",
      "average 0.4146224066390042\n",
      "Normalized list 8: [0.0, 0.04149377593360996, 0.8762886597938144, 0.3258145363408521, 0.5206611570247934]\n",
      "average 0.35285162581861396\n"
     ]
    }
   ],
   "source": [
    "# f1 scores\n",
    "egt_f1 = [0.738, 0.105, 0.34, 0.116, 0.158]\n",
    "gat_f1 = [0.902, 0.721, 0.388, 0.399, 0.242]\n",
    "gated_f1 = [0.912, 0.723, 0.178, 0, 0.078]\n",
    "gcn_f1 = [0.806, 0, 0, 0, 0]\n",
    "gin_f1 = [0.778, 0.294, 0.124, 0, 0]\n",
    "gmm_f1 = [0.875, 0.457, 0.012, 0.097, 0.016]\n",
    "sage_f1 = [0.909, 0.424, 0.194, 0, 0]\n",
    "mlp_f1 = [0.687, 0.03, 0.34, 0.13, 0.126]\n",
    "\n",
    "# Combine all lists into a single list of lists\n",
    "all_lists = [egt_f1, gat_f1, gated_f1, gcn_f1, gin_f1, gmm_f1, sage_f1, mlp_f1]\n",
    "\n",
    "# Get the number of elements in each list\n",
    "num_elements = len(egt_f1)\n",
    "\n",
    "# Initialize a list to store the minimum and maximum values for each position\n",
    "min_values = [min(lst[i] for lst in all_lists) for i in range(num_elements)]\n",
    "max_values = [max(lst[i] for lst in all_lists) for i in range(num_elements)]\n",
    "\n",
    "# Normalize each element in the lists based on the range of values at the corresponding position\n",
    "normalized_lists = []\n",
    "for lst in all_lists:\n",
    "    normalized_lst = [(x - min_values[i]) / (max_values[i] - min_values[i]) for i, x in enumerate(lst)]\n",
    "    normalized_lists.append(normalized_lst)\n",
    "\n",
    "# Print normalized lists\n",
    "for i, lst in enumerate(normalized_lists, 1):\n",
    "    print(f\"Normalized list {i}: {lst}\")\n",
    "    print(\"average\", sum(lst) / len(lst))"
   ],
   "metadata": {
    "collapsed": false,
    "ExecuteTime": {
     "end_time": "2024-04-08T03:40:39.794349Z",
     "start_time": "2024-04-08T03:40:39.789164Z"
    }
   },
   "id": "1cc707794ad07c2c",
   "execution_count": 4
  },
  {
   "cell_type": "code",
   "outputs": [
    {
     "name": "stdout",
     "output_type": "stream",
     "text": [
      "Normalized list 1: [1.0, 0.8571428571428574, 0.7304964539007095, 0.7340425531914894, 0.8415300546448088]\n",
      "average 0.832642383775973\n",
      "Normalized list 2: [0.0, 0.0, 0.0, 0.0, 0.0]\n",
      "average 0.0\n",
      "Normalized list 3: [0.6623376623376629, 0.9761904761904764, 0.6808510638297872, 0.8510638297872342, 0.1584699453551912]\n",
      "average 0.6657825955000705\n",
      "Normalized list 4: [0.6233766233766234, 1.0, 0.666666666666667, 0.797872340425532, 0.8524590163934425]\n",
      "average 0.788074929372453\n",
      "Normalized list 5: [0.5454545454545452, 0.761904761904762, 1.0, 1.0, 1.0]\n",
      "average 0.8614718614718615\n",
      "Normalized list 6: [0.402597402597403, 0.11111111111111155, 0.021276595744681152, 0.24468085106382953, 0.15300546448087418]\n",
      "average 0.18653428499957986\n",
      "Normalized list 7: [0.4155844155844153, 0.8809523809523809, 0.9219858156028368, 0.702127659574468, 0.6120218579234972]\n",
      "average 0.7065344259275196\n",
      "Normalized list 8: [0.9870129870129878, 0.8253968253968258, 0.16312056737588682, 0.7659574468085106, 0.4972677595628413]\n",
      "average 0.6477511172314105\n"
     ]
    }
   ],
   "source": [
    "# optimal gaps\n",
    "egt_gap = [42.3, 45.1, 52.6, 53.5, 58.6]\n",
    "gat_gap = [34.6, 34.3, 42.3, 39.7, 43.2]\n",
    "gated_gap = [39.7, 46.6, 51.9, 55.7, 46.1]\n",
    "gcn_gap = [39.4, 46.9, 51.7, 54.7, 58.8]\n",
    "gin_gap = [38.8, 43.9, 56.4, 58.5, 61.5]\n",
    "gmm_gap = [37.7, 35.7, 42.6, 44.3, 46]\n",
    "sage_gap = [37.8, 45.4, 55.3, 52.9, 54.4]\n",
    "mlp_gap = [42.2, 44.7, 44.6, 54.1, 52.3]\n",
    "\n",
    "# Combine all lists into a single list of lists\n",
    "all_lists = [egt_gap, gat_gap, gated_gap, gcn_gap, gin_gap, gmm_gap, sage_gap, mlp_gap]\n",
    "\n",
    "# Get the number of elements in each list\n",
    "num_elements = len(egt_gap)\n",
    "\n",
    "# Initialize a list to store the minimum and maximum values for each position\n",
    "min_values = [min(lst[i] for lst in all_lists) for i in range(num_elements)]\n",
    "max_values = [max(lst[i] for lst in all_lists) for i in range(num_elements)]\n",
    "# Normalize each element in the lists based on the range of values at the corresponding position\n",
    "normalized_lists = []\n",
    "for lst in all_lists:\n",
    "    normalized_lst = [(x - min_values[i]) / (max_values[i] - min_values[i]) for i, x in enumerate(lst)]\n",
    "    normalized_lists.append(normalized_lst)\n",
    "\n",
    "# Print normalized lists\n",
    "for i, lst in enumerate(normalized_lists, 1):\n",
    "    print(f\"Normalized list {i}: {lst}\")\n",
    "    print(\"average\", sum(lst) / len(lst))"
   ],
   "metadata": {
    "collapsed": false,
    "ExecuteTime": {
     "end_time": "2024-04-08T03:44:13.254935Z",
     "start_time": "2024-04-08T03:44:13.250111Z"
    }
   },
   "id": "a9db27f222ec3885",
   "execution_count": 7
  },
  {
   "cell_type": "code",
   "outputs": [],
   "source": [],
   "metadata": {
    "collapsed": false
   },
   "id": "e17572f193e3c901"
  }
 ],
 "metadata": {
  "kernelspec": {
   "display_name": "Python 3",
   "language": "python",
   "name": "python3"
  },
  "language_info": {
   "codemirror_mode": {
    "name": "ipython",
    "version": 2
   },
   "file_extension": ".py",
   "mimetype": "text/x-python",
   "name": "python",
   "nbconvert_exporter": "python",
   "pygments_lexer": "ipython2",
   "version": "2.7.6"
  }
 },
 "nbformat": 4,
 "nbformat_minor": 5
}
