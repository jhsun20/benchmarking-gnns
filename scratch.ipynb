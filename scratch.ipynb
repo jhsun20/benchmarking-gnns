{
 "cells": [
  {
   "cell_type": "code",
   "outputs": [],
   "source": [
    "import torch"
   ],
   "metadata": {
    "collapsed": false,
    "ExecuteTime": {
     "end_time": "2024-03-11T06:12:08.360208Z",
     "start_time": "2024-03-11T06:12:07.399835Z"
    }
   },
   "id": "f57630a3bb8c6c36",
   "execution_count": 1
  },
  {
   "cell_type": "code",
   "outputs": [
    {
     "name": "stdout",
     "output_type": "stream",
     "text": [
      "tensor([[ 0.5763, -0.1681],\n",
      "        [ 0.3528, -1.2747],\n",
      "        [ 0.1138,  0.8957],\n",
      "        [-0.6074,  0.2730],\n",
      "        [ 0.6778, -0.1365],\n",
      "        [-0.4219,  0.2173],\n",
      "        [-0.6217,  0.3097],\n",
      "        [-0.5737, -0.0260],\n",
      "        [-0.6076, -2.1961],\n",
      "        [ 0.6156,  0.9959]])\n",
      "tensor([[[ 0.5763, -0.1681],\n",
      "         [ 0.3528, -1.2747]],\n",
      "\n",
      "        [[ 0.1138,  0.8957],\n",
      "         [-0.6074,  0.2730]],\n",
      "\n",
      "        [[ 0.6778, -0.1365],\n",
      "         [-0.4219,  0.2173]],\n",
      "\n",
      "        [[-0.6217,  0.3097],\n",
      "         [-0.5737, -0.0260]],\n",
      "\n",
      "        [[-0.6076, -2.1961],\n",
      "         [ 0.6156,  0.9959]]])\n"
     ]
    }
   ],
   "source": [
    "tensor1 = torch.randn(10, 2)\n",
    "print(tensor1)\n",
    "tensor2 = tensor1.view(5, 2, 2)\n",
    "print(tensor2)"
   ],
   "metadata": {
    "collapsed": false,
    "ExecuteTime": {
     "end_time": "2024-03-11T08:20:33.187107Z",
     "start_time": "2024-03-11T08:20:33.183263Z"
    }
   },
   "id": "7457341b9b5c484f",
   "execution_count": 18
  },
  {
   "cell_type": "code",
   "outputs": [
    {
     "name": "stdout",
     "output_type": "stream",
     "text": [
      "tensor([[ 0.5763, -0.1681],\n",
      "        [ 0.3528, -1.2747]])\n",
      "tensor([[ 0.1138,  0.8957],\n",
      "        [-0.6074,  0.2730]])\n",
      "tensor([[ 0.6778, -0.1365],\n",
      "        [-0.4219,  0.2173]])\n",
      "tensor([[-0.6217,  0.3097],\n",
      "        [-0.5737, -0.0260]])\n",
      "tensor([[-0.6076, -2.1961],\n",
      "        [ 0.6156,  0.9959]])\n"
     ]
    }
   ],
   "source": [
    "for i in tensor2:\n",
    "    print(i)"
   ],
   "metadata": {
    "collapsed": false,
    "ExecuteTime": {
     "end_time": "2024-03-11T08:21:05.072408Z",
     "start_time": "2024-03-11T08:21:05.068789Z"
    }
   },
   "id": "bb9059913144567f",
   "execution_count": 19
  },
  {
   "cell_type": "code",
   "outputs": [],
   "source": [],
   "metadata": {
    "collapsed": false
   },
   "id": "1cc707794ad07c2c"
  }
 ],
 "metadata": {
  "kernelspec": {
   "display_name": "Python 3",
   "language": "python",
   "name": "python3"
  },
  "language_info": {
   "codemirror_mode": {
    "name": "ipython",
    "version": 2
   },
   "file_extension": ".py",
   "mimetype": "text/x-python",
   "name": "python",
   "nbconvert_exporter": "python",
   "pygments_lexer": "ipython2",
   "version": "2.7.6"
  }
 },
 "nbformat": 4,
 "nbformat_minor": 5
}
