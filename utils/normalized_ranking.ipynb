{
 "cells": [
  {
   "cell_type": "code",
   "outputs": [],
   "source": [
    "import torch\n",
    "import numpy as np\n",
    "import networkx as nx\n",
    "import os"
   ],
   "metadata": {
    "collapsed": false,
    "ExecuteTime": {
     "end_time": "2024-04-13T02:56:53.294168Z",
     "start_time": "2024-04-13T02:56:51.428011Z"
    }
   },
   "id": "f57630a3bb8c6c36",
   "execution_count": 2
  },
  {
   "cell_type": "code",
   "outputs": [
    {
     "name": "stdout",
     "output_type": "stream",
     "text": [
      "Normalized list 1: [0.5462555066079295, 0.28181818181818147, 0.898989898989899, 0.058823529411764705, 0.5135135135135137]\n",
      "average 0.4598801260682577\n",
      "Normalized list 2: [0.3480176211453743, 0.009090909090909096, 0.0, 0.058823529411764705, 0.0]\n",
      "average 0.08318641192960963\n",
      "Normalized list 3: [1.0, 0.6636363636363635, 0.8737373737373738, 1.0, 0.5675675675675679]\n",
      "average 0.820988260988261\n",
      "Normalized list 4: [0.46255506607929514, 0.03636363636363638, 0.23232323232323226, 0.0, 0.05405405405405411]\n",
      "average 0.1570591977640436\n",
      "Normalized list 5: [0.2907488986784139, 0.0, 0.5050505050505051, 0.0, 0.4594594594594596]\n",
      "average 0.2510517726376757\n",
      "Normalized list 6: [0.5154185022026432, 0.009090909090909096, 0.6414141414141414, 0.0, 0.4594594594594596]\n",
      "average 0.3250766024334307\n",
      "Normalized list 7: [0.9383259911894273, 1.0, 1.0, 0.11764705882352941, 0.4864864864864867]\n",
      "average 0.7084919072998888\n",
      "Normalized list 8: [0.0, 0.04545454545454548, 0.19696969696969696, 0.058823529411764705, 1.0]\n",
      "average 0.26024955436720143\n"
     ]
    }
   ],
   "source": [
    "# MC\n",
    "\n",
    "# f1 scores\n",
    "egt_f1 = [0.681, 0.477, 0.203, 0.311, 0.133]\n",
    "gat_f1 = [0.636, 0.447, 0.025, 0.311, 0.114]\n",
    "gated_f1 = [0.784, 0.519, 0.198, 0.327, 0.135]\n",
    "gcn_f1 = [0.662, 0.45, 0.071, 0.31, 0.116]\n",
    "gin_f1 = [0.623, 0.446, 0.125, 0.31, 0.131]\n",
    "gmm_f1 = [0.674, 0.447, 0.152, 0.31, 0.131]\n",
    "sage_f1 = [0.77, 0.556, 0.223, 0.312, 0.132]\n",
    "mlp_f1 = [0.557, 0.451, 0.064, 0.311, 0.151]\n",
    "\n",
    "# Combine all lists into a single list of lists\n",
    "all_lists = [egt_f1, gat_f1, gated_f1, gcn_f1, gin_f1, gmm_f1, sage_f1, mlp_f1]\n",
    "\n",
    "# Get the number of elements in each list\n",
    "num_elements = len(egt_f1)\n",
    "\n",
    "# Initialize a list to store the minimum and maximum values for each position\n",
    "min_values = [min(lst[i] for lst in all_lists) for i in range(num_elements)]\n",
    "max_values = [max(lst[i] for lst in all_lists) for i in range(num_elements)]\n",
    "\n",
    "# Normalize each element in the lists based on the range of values at the corresponding position\n",
    "normalized_lists = []\n",
    "for lst in all_lists:\n",
    "    normalized_lst = [(x - min_values[i]) / (max_values[i] - min_values[i]) for i, x in enumerate(lst)]\n",
    "    normalized_lists.append(normalized_lst)\n",
    "\n",
    "# Print normalized lists\n",
    "for i, lst in enumerate(normalized_lists, 1):\n",
    "    print(f\"Normalized list {i}: {lst}\")\n",
    "    print(\"average\", sum(lst) / len(lst))"
   ],
   "metadata": {
    "collapsed": false,
    "ExecuteTime": {
     "end_time": "2024-04-13T03:01:23.234204Z",
     "start_time": "2024-04-13T03:01:23.228086Z"
    }
   },
   "id": "1cc707794ad07c2c",
   "execution_count": 3
  },
  {
   "cell_type": "code",
   "outputs": [
    {
     "name": "stdout",
     "output_type": "stream",
     "text": [
      "Normalized list 1: [0.0, 0.8947368421052629, 0.6843971631205674, 0.13333333333333333, 0.5555555555555557]\n",
      "average 0.5463954211770561\n",
      "Normalized list 2: [0.5165562913907282, 0.17543859649122798, 1.0, 0.0, 0.5740740740740732]\n",
      "average 0.5467862076087942\n",
      "Normalized list 3: [0.8145695364238408, 0.0, 0.6382978723404257, 0.773333333333333, 1.0]\n",
      "average 0.3547598515804802\n",
      "Normalized list 4: [0.019867549668873982, 0.6666666666666659, 0.5460992907801419, 0.013333333333332576, 0.8703703703703698]\n",
      "average 0.5767325578361232\n",
      "Normalized list 5: [0.8344370860927153, 0.9473684210526309, 0.48936170212765956, 0.2533333333333322, 0.0]\n",
      "average 0.49509989147873246\n",
      "Normalized list 6: [0.8675496688741722, 1.0, 0.0, 0.23999999999999963, 0.027777777777777523]\n",
      "average 0.5729345106696101\n",
      "Normalized list 7: [0.05298013245033093, 0.5789473684210519, 0.45035460992907794, 1.0, 0.9074074074074073]\n",
      "average 0.4020620963584264\n",
      "Normalized list 8: [1.0, 0.8947368421052629, 0.07092198581560284, 0.7066666666666663, 0.3796296296296292]\n",
      "average 0.38960897515656767\n"
     ]
    }
   ],
   "source": [
    "# optimal gaps\n",
    "egt_gap = [39.1, 56.1, 61.9, 69.2, 71.9]\n",
    "gat_gap = [46.9, 52, 70.8, 68.2, 72.1]\n",
    "gated_gap = [51.4, 51, 60.6, 74, 76.7]\n",
    "gcn_gap = [39.4, 54.8, 58, 68.3, 75.3]\n",
    "gin_gap = [51.7, 56.4, 56.4, 70.1, 65.9]\n",
    "gmm_gap = [52.2, 56.7, 42.6, 70, 66.2]\n",
    "sage_gap = [39.9, 54.3, 55.3, 75.7, 75.7]\n",
    "mlp_gap = [54.2, 56.1, 44.6, 73.5, 70]\n",
    "\n",
    "# Combine all lists into a single list of lists\n",
    "all_lists = [egt_gap, gat_gap, gated_gap, gcn_gap, gin_gap, gmm_gap, sage_gap, mlp_gap]\n",
    "\n",
    "# Get the number of elements in each list\n",
    "num_elements = len(egt_gap)\n",
    "\n",
    "# Initialize a list to store the minimum and maximum values for each position\n",
    "min_values = [min(lst[i] for lst in all_lists) for i in range(num_elements)]\n",
    "max_values = [max(lst[i] for lst in all_lists) for i in range(num_elements)]\n",
    "# Normalize each element in the lists based on the range of values at the corresponding position\n",
    "normalized_lists = []\n",
    "for lst in all_lists:\n",
    "    normalized_lst = [(x - min_values[i]) / (max_values[i] - min_values[i]) for i, x in enumerate(lst)]\n",
    "    normalized_lists.append(normalized_lst)\n",
    "\n",
    "# Print normalized lists\n",
    "for i, lst in enumerate(normalized_lists, 1):\n",
    "    print(f\"Normalized list {i}: {lst}\")\n",
    "    print(\"average\", 1 - (sum(lst) / len(lst)))"
   ],
   "metadata": {
    "collapsed": false,
    "ExecuteTime": {
     "end_time": "2024-04-13T03:05:24.165955Z",
     "start_time": "2024-04-13T03:05:24.159877Z"
    }
   },
   "id": "a9db27f222ec3885",
   "execution_count": 4
  },
  {
   "cell_type": "code",
   "outputs": [
    {
     "name": "stdout",
     "output_type": "stream",
     "text": [
      "Normalized list 1: [0.2266666666666664, 0.14522821576763487, 0.8762886597938144, 0.2907268170426065, 0.6528925619834711]\n",
      "average 0.4383605842508387\n",
      "Normalized list 2: [0.9555555555555555, 0.9972337482710927, 1.0, 1.0, 1.0]\n",
      "average 0.9905578607653297\n",
      "Normalized list 3: [1.0, 1.0, 0.4587628865979381, 0.0, 0.3223140495867769]\n",
      "average 0.5562153872369431\n",
      "Normalized list 4: [0.528888888888889, 0.0, 0.0, 0.0, 0.0]\n",
      "average 0.10577777777777779\n",
      "Normalized list 5: [0.40444444444444433, 0.4066390041493776, 0.31958762886597936, 0.0, 0.0]\n",
      "average 0.22613421549196025\n",
      "Normalized list 6: [0.8355555555555554, 0.6320885200553251, 0.030927835051546393, 0.24310776942355888, 0.06611570247933884]\n",
      "average 0.3615590765130649\n",
      "Normalized list 7: [0.9866666666666667, 0.5864453665283541, 0.5, 0.0, 0.0]\n",
      "average 0.4146224066390042\n",
      "Normalized list 8: [0.0, 0.04149377593360996, 0.8762886597938144, 0.3258145363408521, 0.5206611570247934]\n",
      "average 0.35285162581861396\n"
     ]
    }
   ],
   "source": [
    "# f1 scores\n",
    "egt_f1 = [0.738, 0.105, 0.34, 0.116, 0.158]\n",
    "gat_f1 = [0.902, 0.721, 0.388, 0.399, 0.242]\n",
    "gated_f1 = [0.912, 0.723, 0.178, 0, 0.078]\n",
    "gcn_f1 = [0.806, 0, 0, 0, 0]\n",
    "gin_f1 = [0.778, 0.294, 0.124, 0, 0]\n",
    "gmm_f1 = [0.875, 0.457, 0.012, 0.097, 0.016]\n",
    "sage_f1 = [0.909, 0.424, 0.194, 0, 0]\n",
    "mlp_f1 = [0.687, 0.03, 0.34, 0.13, 0.126]\n",
    "\n",
    "# Combine all lists into a single list of lists\n",
    "all_lists = [egt_f1, gat_f1, gated_f1, gcn_f1, gin_f1, gmm_f1, sage_f1, mlp_f1]\n",
    "\n",
    "# Get the number of elements in each list\n",
    "num_elements = len(egt_f1)\n",
    "\n",
    "# Initialize a list to store the minimum and maximum values for each position\n",
    "min_values = [min(lst[i] for lst in all_lists) for i in range(num_elements)]\n",
    "max_values = [max(lst[i] for lst in all_lists) for i in range(num_elements)]\n",
    "\n",
    "# Normalize each element in the lists based on the range of values at the corresponding position\n",
    "normalized_lists = []\n",
    "for lst in all_lists:\n",
    "    normalized_lst = [(x - min_values[i]) / (max_values[i] - min_values[i]) for i, x in enumerate(lst)]\n",
    "    normalized_lists.append(normalized_lst)\n",
    "\n",
    "# Print normalized lists\n",
    "for i, lst in enumerate(normalized_lists, 1):\n",
    "    print(f\"Normalized list {i}: {lst}\")\n",
    "    print(\"average\", sum(lst) / len(lst))"
   ],
   "metadata": {
    "collapsed": false,
    "ExecuteTime": {
     "end_time": "2024-04-13T03:05:26.600105Z",
     "start_time": "2024-04-13T03:05:26.594689Z"
    }
   },
   "id": "e17572f193e3c901",
   "execution_count": 5
  },
  {
   "cell_type": "code",
   "outputs": [
    {
     "name": "stdout",
     "output_type": "stream",
     "text": [
      "Normalized list 1: [1.0, 0.8571428571428574, 0.7304964539007095, 0.7340425531914894, 0.8415300546448088]\n",
      "average 0.167357616224027\n",
      "Normalized list 2: [0.0, 0.0, 0.0, 0.0, 0.0]\n",
      "average 1.0\n",
      "Normalized list 3: [0.6623376623376629, 0.9761904761904764, 0.6808510638297872, 0.8510638297872342, 0.1584699453551912]\n",
      "average 0.33421740449992954\n",
      "Normalized list 4: [0.6233766233766234, 1.0, 0.666666666666667, 0.797872340425532, 0.8524590163934425]\n",
      "average 0.21192507062754695\n",
      "Normalized list 5: [0.5454545454545452, 0.761904761904762, 1.0, 1.0, 1.0]\n",
      "average 0.1385281385281385\n",
      "Normalized list 6: [0.402597402597403, 0.11111111111111155, 0.021276595744681152, 0.24468085106382953, 0.15300546448087418]\n",
      "average 0.8134657150004201\n",
      "Normalized list 7: [0.4155844155844153, 0.8809523809523809, 0.9219858156028368, 0.702127659574468, 0.6120218579234972]\n",
      "average 0.2934655740724804\n",
      "Normalized list 8: [0.9870129870129878, 0.8253968253968258, 0.16312056737588682, 0.7659574468085106, 0.4972677595628413]\n",
      "average 0.35224888276858946\n"
     ]
    }
   ],
   "source": [
    "# optimal gaps\n",
    "egt_gap = [42.3, 45.1, 52.6, 53.5, 58.6]\n",
    "gat_gap = [34.6, 34.3, 42.3, 39.7, 43.2]\n",
    "gated_gap = [39.7, 46.6, 51.9, 55.7, 46.1]\n",
    "gcn_gap = [39.4, 46.9, 51.7, 54.7, 58.8]\n",
    "gin_gap = [38.8, 43.9, 56.4, 58.5, 61.5]\n",
    "gmm_gap = [37.7, 35.7, 42.6, 44.3, 46]\n",
    "sage_gap = [37.8, 45.4, 55.3, 52.9, 54.4]\n",
    "mlp_gap = [42.2, 44.7, 44.6, 54.1, 52.3]\n",
    "\n",
    "# Combine all lists into a single list of lists\n",
    "all_lists = [egt_gap, gat_gap, gated_gap, gcn_gap, gin_gap, gmm_gap, sage_gap, mlp_gap]\n",
    "\n",
    "# Get the number of elements in each list\n",
    "num_elements = len(egt_gap)\n",
    "\n",
    "# Initialize a list to store the minimum and maximum values for each position\n",
    "min_values = [min(lst[i] for lst in all_lists) for i in range(num_elements)]\n",
    "max_values = [max(lst[i] for lst in all_lists) for i in range(num_elements)]\n",
    "# Normalize each element in the lists based on the range of values at the corresponding position\n",
    "normalized_lists = []\n",
    "for lst in all_lists:\n",
    "    normalized_lst = [(x - min_values[i]) / (max_values[i] - min_values[i]) for i, x in enumerate(lst)]\n",
    "    normalized_lists.append(normalized_lst)\n",
    "\n",
    "# Print normalized lists\n",
    "for i, lst in enumerate(normalized_lists, 1):\n",
    "    print(f\"Normalized list {i}: {lst}\")\n",
    "    print(\"average\", 1 - (sum(lst) / len(lst)))"
   ],
   "metadata": {
    "collapsed": false,
    "ExecuteTime": {
     "end_time": "2024-04-13T03:05:27.544630Z",
     "start_time": "2024-04-13T03:05:27.539902Z"
    }
   },
   "id": "f9a772fc167adf24",
   "execution_count": 6
  },
  {
   "cell_type": "code",
   "outputs": [],
   "source": [],
   "metadata": {
    "collapsed": false
   },
   "id": "3c55c79a795e8cf9"
  }
 ],
 "metadata": {
  "kernelspec": {
   "display_name": "Python 3",
   "language": "python",
   "name": "python3"
  },
  "language_info": {
   "codemirror_mode": {
    "name": "ipython",
    "version": 2
   },
   "file_extension": ".py",
   "mimetype": "text/x-python",
   "name": "python",
   "nbconvert_exporter": "python",
   "pygments_lexer": "ipython2",
   "version": "2.7.6"
  }
 },
 "nbformat": 4,
 "nbformat_minor": 5
}
