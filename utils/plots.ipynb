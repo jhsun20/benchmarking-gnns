{
 "cells": [
  {
   "cell_type": "code",
   "execution_count": 64,
   "id": "initial_id",
   "metadata": {
    "collapsed": true,
    "ExecuteTime": {
     "end_time": "2024-04-13T02:10:54.780694Z",
     "start_time": "2024-04-13T02:10:54.772059Z"
    }
   },
   "outputs": [],
   "source": [
    "import json\n",
    "import numpy as np\n",
    "import pandas as pd\n",
    "import seaborn as sns\n",
    "import matplotlib.pyplot as plt\n",
    "import statistics\n",
    "\n",
    "def bootstrap_mean_std(data, num_samples=1000, sample_size=None):\n",
    "    if sample_size is None:\n",
    "        sample_size = len(data)\n",
    "    means = []\n",
    "    stds = []\n",
    "    for _ in range(num_samples):\n",
    "        bootstrap_sample = np.random.choice(data, size=sample_size, replace=True)\n",
    "        sample_mean = np.mean(bootstrap_sample)\n",
    "        sample_std = np.std(bootstrap_sample)\n",
    "        means.append(sample_mean)\n",
    "        stds.append(sample_std)\n",
    "    return np.mean(means), np.mean(stds)\n",
    "\n",
    "def calculate_mean_and_std(data):\n",
    "    \"\"\"\n",
    "    Calculate the mean and standard deviation of a list of floats.\n",
    "\n",
    "    Parameters:\n",
    "    data (list): List of floats.\n",
    "\n",
    "    Returns:\n",
    "    tuple: A tuple containing the mean and standard deviation.\n",
    "    \"\"\"\n",
    "    mean = statistics.mean(data)\n",
    "    std_dev = statistics.stdev(data)\n",
    "    return mean, std_dev"
   ]
  },
  {
   "cell_type": "code",
   "outputs": [],
   "source": [
    "f1_30_sparse = []\n",
    "gap_30_sparse = []\n",
    "f1_30_dense = []\n",
    "gap_30_dense = []\n",
    "f1_90_sparse = []\n",
    "gap_90_sparse = []\n",
    "f1_90_dense = []\n",
    "gap_90_dense = []\n",
    "f1_180_any = []\n",
    "gap_180_any = []"
   ],
   "metadata": {
    "collapsed": false,
    "ExecuteTime": {
     "end_time": "2024-04-13T02:15:30.037442Z",
     "start_time": "2024-04-13T02:15:30.034206Z"
    }
   },
   "id": "168332ed003b6b5c",
   "execution_count": 86
  },
  {
   "cell_type": "code",
   "outputs": [],
   "source": [
    "directory = 'experiment_results/MIS_base_all/EGT/run1/'\n",
    "\n",
    "with open(directory + 'TEST_result_EGT_MIS_f1scores.json', 'r') as f:\n",
    "    results = json.load(f)\n",
    "    f1_30_sparse.extend(results[0])\n",
    "    gap_30_sparse.extend(results[1])\n",
    "    \n",
    "with open(directory + 'TEST_result_EGT_MIS_30_0.6_f1scores.json', 'r') as f:\n",
    "    results = json.load(f)\n",
    "    f1_30_dense.extend(results[0])\n",
    "    gap_30_dense.extend(results[1])\n",
    "    \n",
    "with open(directory + 'TEST_result_EGT_MIS_90_0.2_f1scores.json', 'r') as f:\n",
    "    results = json.load(f)\n",
    "    f1_90_sparse.extend(results[0])\n",
    "    gap_90_sparse.extend(results[1])\n",
    "    \n",
    "with open(directory + 'TEST_result_EGT_MIS_90_0.6_f1scores.json', 'r') as f:\n",
    "    results = json.load(f)\n",
    "    f1_90_dense.extend(results[0])\n",
    "    gap_90_dense.extend(results[1])\n",
    "    \n",
    "with open(directory + 'TEST_result_EGT_MIS_180_0.5_f1scores.json', 'r') as f:\n",
    "    results = json.load(f)\n",
    "    f1_180_any.extend(results[0])\n",
    "    gap_180_any.extend(results[1])"
   ],
   "metadata": {
    "collapsed": false,
    "ExecuteTime": {
     "end_time": "2024-04-13T02:15:30.449365Z",
     "start_time": "2024-04-13T02:15:30.417935Z"
    }
   },
   "id": "cd6970cf73af93aa",
   "execution_count": 87
  },
  {
   "cell_type": "code",
   "outputs": [],
   "source": [
    "directory = 'experiment_results/MIS_base_all/GAT/run1/'\n",
    "\n",
    "with open(directory + 'TEST_result_GAT_MIS_f1scores.json', 'r') as f:\n",
    "    results = json.load(f)\n",
    "    f1_30_sparse.extend(results[0])\n",
    "    gap_30_sparse.extend(results[1])\n",
    "    \n",
    "with open(directory + 'TEST_result_GAT_MIS_30_0.6_f1scores.json', 'r') as f:\n",
    "    results = json.load(f)\n",
    "    f1_30_dense.extend(results[0])\n",
    "    gap_30_dense.extend(results[1])\n",
    "    \n",
    "with open(directory + 'TEST_result_GAT_MIS_90_0.2_f1scores.json', 'r') as f:\n",
    "    results = json.load(f)\n",
    "    f1_90_sparse.extend(results[0])\n",
    "    gap_90_sparse.extend(results[1])\n",
    "    \n",
    "with open(directory + 'TEST_result_GAT_MIS_90_0.6_f1scores.json', 'r') as f:\n",
    "    results = json.load(f)\n",
    "    f1_90_dense.extend(results[0])\n",
    "    gap_90_dense.extend(results[1])\n",
    "    \n",
    "with open(directory + 'TEST_result_GAT_MIS_180_0.5_f1scores.json', 'r') as f:\n",
    "    results = json.load(f)\n",
    "    f1_180_any.extend(results[0])\n",
    "    gap_180_any.extend(results[1])"
   ],
   "metadata": {
    "collapsed": false,
    "ExecuteTime": {
     "end_time": "2024-04-13T02:15:30.814854Z",
     "start_time": "2024-04-13T02:15:30.782095Z"
    }
   },
   "id": "dbb24bc3b2536005",
   "execution_count": 88
  },
  {
   "cell_type": "code",
   "outputs": [],
   "source": [
    "directory = 'experiment_results/MIS_base_all/GatedGCN/run1/'\n",
    "\n",
    "with open(directory + 'TEST_result_GatedGCN_MIS_f1scores.json', 'r') as f:\n",
    "    results = json.load(f)\n",
    "    f1_30_sparse.extend(results[0])\n",
    "    gap_30_sparse.extend(results[1])\n",
    "    \n",
    "with open(directory + 'TEST_result_GatedGCN_MIS_30_0.6_f1scores.json', 'r') as f:\n",
    "    results = json.load(f)\n",
    "    f1_30_dense.extend(results[0])\n",
    "    gap_30_dense.extend(results[1])\n",
    "    \n",
    "with open(directory + 'TEST_result_GatedGCN_MIS_90_0.2_f1scores.json', 'r') as f:\n",
    "    results = json.load(f)\n",
    "    f1_90_sparse.extend(results[0])\n",
    "    gap_90_sparse.extend(results[1])\n",
    "    \n",
    "with open(directory + 'TEST_result_GatedGCN_MIS_90_0.6_f1scores.json', 'r') as f:\n",
    "    results = json.load(f)\n",
    "    f1_90_dense.extend(results[0])\n",
    "    gap_90_dense.extend(results[1])\n",
    "    \n",
    "with open(directory + 'TEST_result_GatedGCN_MIS_180_0.5_f1scores.json', 'r') as f:\n",
    "    results = json.load(f)\n",
    "    f1_180_any.extend(results[0])\n",
    "    gap_180_any.extend(results[1])"
   ],
   "metadata": {
    "collapsed": false,
    "ExecuteTime": {
     "end_time": "2024-04-13T02:15:31.153139Z",
     "start_time": "2024-04-13T02:15:31.124420Z"
    }
   },
   "id": "9f36914eb6c2c03c",
   "execution_count": 89
  },
  {
   "cell_type": "code",
   "outputs": [],
   "source": [
    "directory = 'experiment_results/MIS_base_all/GCN/run1/'\n",
    "\n",
    "with open(directory + 'TEST_result_GCN_MIS_f1scores.json', 'r') as f:\n",
    "    results = json.load(f)\n",
    "    f1_30_sparse.extend(results[0])\n",
    "    gap_30_sparse.extend(results[1])\n",
    "    \n",
    "with open(directory + 'TEST_result_GCN_MIS_30_0.6_f1scores.json', 'r') as f:\n",
    "    results = json.load(f)\n",
    "    f1_30_dense.extend(results[0])\n",
    "    gap_30_dense.extend(results[1])\n",
    "    \n",
    "with open(directory + 'TEST_result_GCN_MIS_90_0.2_f1scores.json', 'r') as f:\n",
    "    results = json.load(f)\n",
    "    f1_90_sparse.extend(results[0])\n",
    "    gap_90_sparse.extend(results[1])\n",
    "    \n",
    "with open(directory + 'TEST_result_GCN_MIS_90_0.6_f1scores.json', 'r') as f:\n",
    "    results = json.load(f)\n",
    "    f1_90_dense.extend(results[0])\n",
    "    gap_90_dense.extend(results[1])\n",
    "    \n",
    "with open(directory + 'TEST_result_GCN_MIS_180_0.5_f1scores.json', 'r') as f:\n",
    "    results = json.load(f)\n",
    "    f1_180_any.extend(results[0])\n",
    "    gap_180_any.extend(results[1])"
   ],
   "metadata": {
    "collapsed": false,
    "ExecuteTime": {
     "end_time": "2024-04-13T02:15:31.581907Z",
     "start_time": "2024-04-13T02:15:31.555209Z"
    }
   },
   "id": "79bf673fa66d46f",
   "execution_count": 90
  },
  {
   "cell_type": "code",
   "outputs": [],
   "source": [
    "directory = 'experiment_results/MIS_base_all/GIN/run1/'\n",
    "\n",
    "with open(directory + 'TEST_result_GIN_MIS_f1scores.json', 'r') as f:\n",
    "    results = json.load(f)\n",
    "    f1_30_sparse.extend(results[0])\n",
    "    gap_30_sparse.extend(results[1])\n",
    "    \n",
    "with open(directory + 'TEST_result_GIN_MIS_30_0.6_f1scores.json', 'r') as f:\n",
    "    results = json.load(f)\n",
    "    f1_30_dense.extend(results[0])\n",
    "    gap_30_dense.extend(results[1])\n",
    "    \n",
    "with open(directory + 'TEST_result_GIN_MIS_90_0.2_f1scores.json', 'r') as f:\n",
    "    results = json.load(f)\n",
    "    f1_90_sparse.extend(results[0])\n",
    "    gap_90_sparse.extend(results[1])\n",
    "    \n",
    "with open(directory + 'TEST_result_GIN_MIS_90_0.6_f1scores.json', 'r') as f:\n",
    "    results = json.load(f)\n",
    "    f1_90_dense.extend(results[0])\n",
    "    gap_90_dense.extend(results[1])\n",
    "    \n",
    "with open(directory + 'TEST_result_GIN_MIS_180_0.5_f1scores.json', 'r') as f:\n",
    "    results = json.load(f)\n",
    "    f1_180_any.extend(results[0])\n",
    "    gap_180_any.extend(results[1])"
   ],
   "metadata": {
    "collapsed": false,
    "ExecuteTime": {
     "end_time": "2024-04-13T02:15:31.992819Z",
     "start_time": "2024-04-13T02:15:31.964157Z"
    }
   },
   "id": "bd74406213af5fa5",
   "execution_count": 91
  },
  {
   "cell_type": "code",
   "outputs": [],
   "source": [
    "directory = 'experiment_results/MIS_base_all/GMM/run1/'\n",
    "\n",
    "with open(directory + 'TEST_result_GMM_MIS_f1scores.json', 'r') as f:\n",
    "    results = json.load(f)\n",
    "    f1_30_sparse.extend(results[0])\n",
    "    gap_30_sparse.extend(results[1])\n",
    "    \n",
    "with open(directory + 'TEST_result_GMM_MIS_30_0.6_f1scores.json', 'r') as f:\n",
    "    results = json.load(f)\n",
    "    f1_30_dense.extend(results[0])\n",
    "    gap_30_dense.extend(results[1])\n",
    "    \n",
    "with open(directory + 'TEST_result_GMM_MIS_90_0.2_f1scores.json', 'r') as f:\n",
    "    results = json.load(f)\n",
    "    f1_90_sparse.extend(results[0])\n",
    "    gap_90_sparse.extend(results[1])\n",
    "    \n",
    "with open(directory + 'TEST_result_GMM_MIS_90_0.6_f1scores.json', 'r') as f:\n",
    "    results = json.load(f)\n",
    "    f1_90_dense.extend(results[0])\n",
    "    gap_90_dense.extend(results[1])\n",
    "    \n",
    "with open(directory + 'TEST_result_GMM_MIS_180_0.5_f1scores.json', 'r') as f:\n",
    "    results = json.load(f)\n",
    "    f1_180_any.extend(results[0])\n",
    "    gap_180_any.extend(results[1])"
   ],
   "metadata": {
    "collapsed": false,
    "ExecuteTime": {
     "end_time": "2024-04-13T02:15:32.356557Z",
     "start_time": "2024-04-13T02:15:32.326839Z"
    }
   },
   "id": "567be83ac75c3c39",
   "execution_count": 92
  },
  {
   "cell_type": "code",
   "outputs": [],
   "source": [
    "directory = 'experiment_results/MIS_base_all/GraphSage/run1/'\n",
    "\n",
    "with open(directory + 'TEST_result_GraphSage_MIS_f1scores.json', 'r') as f:\n",
    "    results = json.load(f)\n",
    "    f1_30_sparse.extend(results[0])\n",
    "    gap_30_sparse.extend(results[1])\n",
    "    \n",
    "with open(directory + 'TEST_result_GraphSage_MIS_30_0.6_f1scores.json', 'r') as f:\n",
    "    results = json.load(f)\n",
    "    f1_30_dense.extend(results[0])\n",
    "    gap_30_dense.extend(results[1])\n",
    "    \n",
    "with open(directory + 'TEST_result_GraphSage_MIS_90_0.2_f1scores.json', 'r') as f:\n",
    "    results = json.load(f)\n",
    "    f1_90_sparse.extend(results[0])\n",
    "    gap_90_sparse.extend(results[1])\n",
    "    \n",
    "with open(directory + 'TEST_result_GraphSage_MIS_90_0.6_f1scores.json', 'r') as f:\n",
    "    results = json.load(f)\n",
    "    f1_90_dense.extend(results[0])\n",
    "    gap_90_dense.extend(results[1])\n",
    "    \n",
    "with open(directory + 'TEST_result_GraphSage_MIS_180_0.5_f1scores.json', 'r') as f:\n",
    "    results = json.load(f)\n",
    "    f1_180_any.extend(results[0])\n",
    "    gap_180_any.extend(results[1])"
   ],
   "metadata": {
    "collapsed": false,
    "ExecuteTime": {
     "end_time": "2024-04-13T02:15:32.742906Z",
     "start_time": "2024-04-13T02:15:32.712426Z"
    }
   },
   "id": "61d59ab45010082f",
   "execution_count": 93
  },
  {
   "cell_type": "code",
   "outputs": [
    {
     "name": "stdout",
     "output_type": "stream",
     "text": [
      "6769\n",
      "6769\n",
      "7000\n",
      "7000\n",
      "5782\n",
      "5782\n",
      "6741\n",
      "6741\n",
      "1281\n",
      "1281\n"
     ]
    }
   ],
   "source": [
    "print(len(f1_30_sparse))\n",
    "print(len(gap_30_sparse))\n",
    "print(len(f1_30_dense))\n",
    "print(len(gap_30_dense))\n",
    "print(len(f1_90_sparse))\n",
    "print(len(gap_90_sparse))\n",
    "print(len(f1_90_dense))\n",
    "print(len(gap_90_dense))\n",
    "print(len(f1_180_any))\n",
    "print(len(gap_180_any))"
   ],
   "metadata": {
    "collapsed": false,
    "ExecuteTime": {
     "end_time": "2024-04-13T02:15:33.334348Z",
     "start_time": "2024-04-13T02:15:33.330840Z"
    }
   },
   "id": "ade3f2ea57653134",
   "execution_count": 94
  },
  {
   "cell_type": "code",
   "outputs": [
    {
     "name": "stdout",
     "output_type": "stream",
     "text": [
      "---MIS 30 sparse---\n",
      "F1 Mean: 0.8472126020944387\n",
      "F1 Standard Deviation: 0.16587745795089223\n",
      "Gap Mean: 0.3863581026859728\n",
      "Gap Standard Deviation: 0.19196975973673785\n",
      "---MIS 30 dense---\n",
      "F1 Mean: 0.3889197832283822\n",
      "F1 Standard Deviation: 0.35238985712180215\n",
      "Gap Mean: 0.42519816666666665\n",
      "Gap Standard Deviation: 0.301790256973115\n",
      "---MIS 90 sparse---\n",
      "F1 Mean: 0.17650012613834862\n",
      "F1 Standard Deviation: 0.20986480022431475\n",
      "Gap Mean: 0.5036194739056667\n",
      "Gap Standard Deviation: 0.18571524156260188\n",
      "---MIS 90 dense---\n",
      "F1 Mean: 0.08753557140353131\n",
      "F1 Standard Deviation: 0.18599970564442528\n",
      "Gap Mean: 0.513323825064813\n",
      "Gap Standard Deviation: 0.26370717241252817\n",
      "---MIS 180 any---\n",
      "F1 Mean: 0.07045418135168904\n",
      "F1 Standard Deviation: 0.12367753851674496\n",
      "Gap Mean: 0.5263665112329238\n",
      "Gap Standard Deviation: 0.20956528295318738\n"
     ]
    }
   ],
   "source": [
    "print('---MIS 30 sparse---')\n",
    "f1_mean, f1_std = bootstrap_mean_std(f1_30_sparse)\n",
    "print(\"F1 Mean:\", f1_mean)\n",
    "print(\"F1 Standard Deviation:\", f1_std)\n",
    "gap_mean, gap_std = bootstrap_mean_std(gap_30_sparse)\n",
    "print(\"Gap Mean:\", gap_mean)\n",
    "print(\"Gap Standard Deviation:\", gap_std)\n",
    "\n",
    "print('---MIS 30 dense---')\n",
    "f1_mean, f1_std = bootstrap_mean_std(f1_30_dense)\n",
    "print(\"F1 Mean:\", f1_mean)\n",
    "print(\"F1 Standard Deviation:\", f1_std)\n",
    "gap_mean, gap_std = bootstrap_mean_std(gap_30_dense)\n",
    "print(\"Gap Mean:\", gap_mean)\n",
    "print(\"Gap Standard Deviation:\", gap_std)\n",
    "\n",
    "print('---MIS 90 sparse---')\n",
    "f1_mean, f1_std = bootstrap_mean_std(f1_90_sparse)\n",
    "print(\"F1 Mean:\", f1_mean)\n",
    "print(\"F1 Standard Deviation:\", f1_std)\n",
    "gap_mean, gap_std = bootstrap_mean_std(gap_90_sparse)\n",
    "print(\"Gap Mean:\", gap_mean)\n",
    "print(\"Gap Standard Deviation:\", gap_std)\n",
    "\n",
    "print('---MIS 90 dense---')\n",
    "f1_mean, f1_std = bootstrap_mean_std(f1_90_dense)\n",
    "print(\"F1 Mean:\", f1_mean)\n",
    "print(\"F1 Standard Deviation:\", f1_std)\n",
    "gap_mean, gap_std = bootstrap_mean_std(gap_90_dense)\n",
    "print(\"Gap Mean:\", gap_mean)\n",
    "print(\"Gap Standard Deviation:\", gap_std)\n",
    "\n",
    "print('---MIS 180 any---')\n",
    "f1_mean, f1_std = bootstrap_mean_std(f1_180_any)\n",
    "print(\"F1 Mean:\", f1_mean)\n",
    "print(\"F1 Standard Deviation:\", f1_std)\n",
    "gap_mean, gap_std = bootstrap_mean_std(gap_180_any)\n",
    "print(\"Gap Mean:\", gap_mean)\n",
    "print(\"Gap Standard Deviation:\", gap_std)"
   ],
   "metadata": {
    "collapsed": false,
    "ExecuteTime": {
     "end_time": "2024-04-13T02:15:36.642479Z",
     "start_time": "2024-04-13T02:15:34.827922Z"
    }
   },
   "id": "19fef6afd72a771d",
   "execution_count": 95
  },
  {
   "cell_type": "code",
   "outputs": [
    {
     "data": {
      "text/plain": "<Figure size 1000x600 with 1 Axes>",
      "image/png": "[encoded data removed]"
     },
     "metadata": {},
     "output_type": "display_data"
    }
   ],
   "source": [
    "# Combine lists into a DataFrame\n",
    "f1_data = [f1_30_sparse, f1_30_dense, f1_90_sparse, f1_90_dense, f1_180_any]\n",
    "\n",
    "# Set up the figure and axes\n",
    "plt.figure(figsize=(10, 6))  # Adjust the figure size as needed\n",
    "plt.boxplot(f1_data, labels=[\"30 sparse\", \"30 dense\", \"90 sparse\", \"90 dense\", \"180 any\"], whis=3)\n",
    "\n",
    "# Set labels and title\n",
    "plt.xlabel(\"Test Dataset\")\n",
    "plt.ylabel(\"F1-score\")\n",
    "\n",
    "# Show the plot\n",
    "plt.show()"
   ],
   "metadata": {
    "collapsed": false,
    "ExecuteTime": {
     "end_time": "2024-04-13T02:15:36.717584Z",
     "start_time": "2024-04-13T02:15:36.642479Z"
    }
   },
   "id": "4895e54e7bbeef29",
   "execution_count": 96
  },
  {
   "cell_type": "code",
   "outputs": [
    {
     "data": {
      "text/plain": "<Figure size 1000x600 with 1 Axes>",
      "image/png": "[encoded data removed]"
     },
     "metadata": {},
     "output_type": "display_data"
    },
    {
     "data": {
      "text/plain": "<Figure size 640x480 with 0 Axes>"
     },
     "metadata": {},
     "output_type": "display_data"
    }
   ],
   "source": [
    "# Combine lists into a DataFrame\n",
    "gap_data = [gap_30_sparse, gap_30_dense, gap_90_sparse, gap_90_dense, gap_180_any]\n",
    "\n",
    "# Set up the figure and axes\n",
    "plt.figure(figsize=(10, 6))  # Adjust the figure size as needed\n",
    "plt.boxplot(gap_data, labels=[\"30 sparse\", \"30 dense\", \"90 sparse\", \"90 dense\", \"180 any\"], whis=5)\n",
    "\n",
    "# Set labels and title\n",
    "plt.xlabel(\"Test Dataset\")\n",
    "plt.ylabel(\"Optimal Gap (%)\")\n",
    "\n",
    "# Show the plot\n",
    "plt.figure(facecolor='white')\n",
    "plt.show()"
   ],
   "metadata": {
    "collapsed": false,
    "ExecuteTime": {
     "end_time": "2024-04-13T02:15:52.879740Z",
     "start_time": "2024-04-13T02:15:52.805150Z"
    }
   },
   "id": "2fbd826682e21276",
   "execution_count": 98
  },
  {
   "cell_type": "code",
   "outputs": [],
   "source": [
    "f1_30_sparse_delta = [0.03, 0.079, 0.13, 0.281, 0.276, 0.057, 0.236]\n",
    "f1_30_dense_delta = [0.004, 0.192, 0.308, 0, 0.291, -0.105, 0.395]\n",
    "f1_90_sparse_delta = [0, 0.102, -0.155, -0.164, -0.116, -0.334, 0.194]\n",
    "f1_90_dense_delta = [-0.085, 0.118, -0.264, 0, 0, -0.067, 0]\n",
    "f1_180_any_delta = [0.029, 0.11, 0.078, 0, 0, -0.097, 0]\n",
    "\n",
    "gap_30_sparse_delta = [-0.8, -4, -2.7, -2.7, -4.1, -4.4, -4.5]\n",
    "gap_30_dense_delta = [0.4, -9.2, 1.1, 0, -0.3, -9.8, -0.1]\n",
    "gap_90_sparse_delta = [-1.9, 2.6, -5.6, -1.2, 0.2, -13.4, 10.2]\n",
    "gap_90_dense_delta = [-0.3, -11.7, 0.6, 1.8, -1.7, -10.4, 6.3]\n",
    "gap_180_any_delta = [4.8, -4.9, -13.3, 0.1, 3.7, -14.3, 5.8]"
   ],
   "metadata": {
    "collapsed": false,
    "ExecuteTime": {
     "end_time": "2024-04-13T02:39:02.012305Z",
     "start_time": "2024-04-13T02:39:02.007803Z"
    }
   },
   "id": "effff00bf6114e37",
   "execution_count": 102
  },
  {
   "cell_type": "code",
   "outputs": [],
   "source": [
    "f1_30_sparse_delta = [0.024, 0.358, 0.758, 0.393, 0.322, 0.343, 0.534]\n",
    "f1_30_dense_delta = [-0.034, 0.001, 0.073, 0.004, 0, 0.001, 0.11]\n",
    "f1_90_sparse_delta = [0.068, -0.089, 0.073, -0.054, 0, 0.027, 0.088]\n",
    "f1_90_dense_delta = [0, 0, 0.296, -0.001, 0, 0, -0.001]\n",
    "f1_180_any_delta = [0.01, -0.022, -0.016, 0, 0, -0.001, 0.001]\n",
    "\n",
    "gap_30_sparse_delta = [-0.8, 3.5, 4, -6.6, 11.7, 2.6, -8.4]\n",
    "gap_30_dense_delta = [0.5, 9.3, -3.9, 15.1, 0.6, 5.3, 12.8]\n",
    "gap_90_sparse_delta = [1.1, -2.6, -23.3, -26.2, 14.4, -16.6, -25]\n",
    "gap_90_dense_delta = [-8.7, -1.8, 3.8, -1.7, 0, -0.1, 5.7]\n",
    "gap_180_any_delta = [2, 6.1, 10.6, 9.2, -0.3, 0.1, 9.6]"
   ],
   "metadata": {
    "collapsed": false,
    "ExecuteTime": {
     "end_time": "2024-04-13T02:35:27.111747Z",
     "start_time": "2024-04-13T02:35:27.107437Z"
    }
   },
   "id": "d045cee64cc93b46",
   "execution_count": 99
  },
  {
   "cell_type": "code",
   "outputs": [
    {
     "data": {
      "text/plain": "<Figure size 1000x600 with 1 Axes>",
      "image/png": "[encoded data removed]"
     },
     "metadata": {},
     "output_type": "display_data"
    }
   ],
   "source": [
    "# Combine lists into a DataFrame\n",
    "f1_data = [f1_30_sparse_delta, f1_30_dense_delta, f1_90_sparse_delta, f1_90_dense_delta, f1_180_any_delta]\n",
    "\n",
    "# Set up the figure and axes\n",
    "plt.figure(figsize=(10, 6))  # Adjust the figure size as needed\n",
    "plt.boxplot(f1_data, labels=[\"30 sparse\", \"30 dense\", \"90 sparse\", \"90 dense\", \"180 any\"], whis=1)\n",
    "\n",
    "# Set labels and title\n",
    "plt.xlabel(\"Test Dataset\")\n",
    "plt.ylabel(\"F1-score Delta\")\n",
    "\n",
    "# Show the plot\n",
    "plt.show()"
   ],
   "metadata": {
    "collapsed": false,
    "ExecuteTime": {
     "end_time": "2024-04-13T02:39:03.167469Z",
     "start_time": "2024-04-13T02:39:03.094440Z"
    }
   },
   "id": "58ae6fe6d1ae0cce",
   "execution_count": 103
  },
  {
   "cell_type": "code",
   "outputs": [
    {
     "data": {
      "text/plain": "<Figure size 1000x600 with 1 Axes>",
      "image/png": "[encoded data removed]"
     },
     "metadata": {},
     "output_type": "display_data"
    }
   ],
   "source": [
    "# Combine lists into a DataFrame\n",
    "gap_data = [gap_30_sparse_delta, gap_30_dense_delta, gap_90_sparse_delta, gap_90_dense_delta, gap_180_any_delta]\n",
    "\n",
    "# Set up the figure and axes\n",
    "plt.figure(figsize=(10, 6))  # Adjust the figure size as needed\n",
    "plt.boxplot(gap_data, labels=[\"30 sparse\", \"30 dense\", \"90 sparse\", \"90 dense\", \"180 any\"], whis=1)\n",
    "\n",
    "# Set labels and title\n",
    "plt.xlabel(\"Test Dataset\")\n",
    "plt.ylabel(\"Optimal Gap Delta\")\n",
    "\n",
    "# Show the plot\n",
    "plt.show()"
   ],
   "metadata": {
    "collapsed": false,
    "ExecuteTime": {
     "end_time": "2024-04-13T02:39:04.029911Z",
     "start_time": "2024-04-13T02:39:03.960403Z"
    }
   },
   "id": "9f6fa5f57810848b",
   "execution_count": 104
  },
  {
   "cell_type": "code",
   "outputs": [],
   "source": [
    "egt_f1s = [0.738, 0.105, 0.34, 0.116, 0.158]\n",
    "gat_f1s = [0.902, 0.721, 0.388, 0.399, 0.242]\n",
    "gatedgcn_f1s = [0.912, 0.723, 0.178, 0, 0.078]\n",
    "gcn_f1s = [0.806, 0, 0, 0, 0]\n",
    "gin_f1s = [0.788, 0.294, 0.124, 0, 0]\n",
    "gmm_f1s = [0.875, 0.457, 0.012, 0.097, 0.016]\n",
    "graphsage_f1s = [0.909, 0.424, 0.194, 0, 0]\n",
    "mlp_f1s = [0.687, 0.03, 0.34, 0.13, 0.126]\n",
    "\n",
    "egt_gaps = [42.3, 45.1, 52.6, 53.5, 58.6]\n",
    "gat_gaps = [34.6, 34.3, 42.3, 39.7, 43.2]\n",
    "gatedgcn_gaps = [39.7, 46.6, 51.9, 55.7, 46.1]\n",
    "gcn_gaps = [39.4, 46.9, 51.7, 54.7, 58.8]\n",
    "gin_gaps = [38.8, 43.9, 56.4, 58.5, 61.5]\n",
    "gmm_gaps = [37.7, 35.7, 42.6, 44.3, 46]\n",
    "graphsage_gaps = [37.8, 45.4, 55.3, 52.9, 54.4]\n",
    "mlp_gaps = [42.2, 44.7, 44.6, 54.1, 52.3]"
   ],
   "metadata": {
    "collapsed": false,
    "ExecuteTime": {
     "end_time": "2024-04-13T02:11:18.644355Z",
     "start_time": "2024-04-13T02:11:18.639115Z"
    }
   },
   "id": "d4d9b25f28c2371a",
   "execution_count": 80
  },
  {
   "cell_type": "code",
   "outputs": [],
   "source": [],
   "metadata": {
    "collapsed": false
   },
   "id": "ac4faa4949f8b545"
  }
 ],
 "metadata": {
  "kernelspec": {
   "display_name": "Python 3",
   "language": "python",
   "name": "python3"
  },
  "language_info": {
   "codemirror_mode": {
    "name": "ipython",
    "version": 2
   },
   "file_extension": ".py",
   "mimetype": "text/x-python",
   "name": "python",
   "nbconvert_exporter": "python",
   "pygments_lexer": "ipython2",
   "version": "2.7.6"
  }
 },
 "nbformat": 4,
 "nbformat_minor": 5
}
